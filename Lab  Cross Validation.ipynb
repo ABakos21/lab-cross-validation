{
 "cells": [
  {
   "cell_type": "markdown",
   "id": "5278a0d0",
   "metadata": {},
   "source": [
    "# Lab | Handling Data Imbalance in Classification Models\n",
    "\n",
    "For this lab and in the next lessons we will build a model on customer churn binary classification problem. You will be using files_for_lab/Customer-Churn.csv file.\n",
    "\n",
    "## Scenario\n",
    "\n",
    "You are working as an analyst with this internet service provider. You are provided with this historical data about your company's customers and their churn trends. Your task is to build a machine learning model that will help the company identify customers that are more likely to default/churn and thus prevent losses from such customers.\n",
    "\n",
    "## Instructions\n",
    "\n",
    "In this lab, we will first take a look at the degree of imbalance in the data and correct it using the techniques we learned on the class.\n",
    "\n",
    "Here is the list of steps to be followed (building a simple model without balancing the data):\n",
    "\n",
    "- Import the required libraries and modules that you would need.\n",
    "- Read that data into Python and call the dataframe churnData.\n",
    "- Check the datatypes of all the columns in the data. You would see that the column TotalCharges is object type. Convert this column into numeric type using pd.to_numeric function.\n",
    "- Check for null values in the dataframe. Replace the null values.\n",
    "- Use the following features: tenure, SeniorCitizen, MonthlyCharges and TotalCharges:\n",
    "    - Scale the features either by using normalizer or a standard scaler.\n",
    "    - Split the data into a training set and a test set.\n",
    "    - Fit a logistic regression model on the training data.\n",
    "    - Check the accuracy on the test data.\n",
    "\n",
    "Note: So far we have not balanced the data.\n",
    "\n",
    "## Managing imbalance in the dataset\n",
    "\n",
    "- Check for the imbalance.\n",
    "- Use the resampling strategies used in class for upsampling and downsampling to create a balance between the two classes.\n",
    "- Each time fit the model and see how the accuracy of the model is."
   ]
  },
  {
   "cell_type": "code",
   "execution_count": 1,
   "id": "3d727465",
   "metadata": {},
   "outputs": [],
   "source": [
    "# Import the required libraries and modules that you would need.\n",
    "\n",
    "import pandas as pd\n",
    "import numpy as np\n",
    "import statistics\n",
    "from sklearn.impute import KNNImputer\n",
    "import matplotlib\n",
    "import matplotlib.pyplot as plt\n",
    "import seaborn as sns\n",
    "from sklearn.preprocessing import StandardScaler\n",
    "pd.set_option('display.max_columns', None)\n",
    "from sklearn.linear_model import LogisticRegression\n",
    "from sklearn.metrics import confusion_matrix, accuracy_score, classification_report\n",
    "from sklearn.model_selection import train_test_split\n",
    "from sklearn.preprocessing import Normalizer, StandardScaler\n",
    "from sklearn.metrics import plot_confusion_matrix\n",
    "from sklearn.metrics import accuracy_score\n",
    "from sklearn.tree import DecisionTreeClassifier\n",
    "from imblearn.over_sampling import SMOTE\n",
    "from imblearn.under_sampling import TomekLinks\n",
    "import warnings\n",
    "warnings.filterwarnings('ignore')"
   ]
  },
  {
   "cell_type": "code",
   "execution_count": 2,
   "id": "8d1ae389",
   "metadata": {},
   "outputs": [],
   "source": [
    "# Read that data into Python and call the dataframe churnData.\n",
    "\n",
    "churnData = pd.read_csv('customer-churn.csv')"
   ]
  },
  {
   "cell_type": "code",
   "execution_count": 3,
   "id": "d5b2bbd3",
   "metadata": {},
   "outputs": [
    {
     "data": {
      "text/html": [
       "<div>\n",
       "<style scoped>\n",
       "    .dataframe tbody tr th:only-of-type {\n",
       "        vertical-align: middle;\n",
       "    }\n",
       "\n",
       "    .dataframe tbody tr th {\n",
       "        vertical-align: top;\n",
       "    }\n",
       "\n",
       "    .dataframe thead th {\n",
       "        text-align: right;\n",
       "    }\n",
       "</style>\n",
       "<table border=\"1\" class=\"dataframe\">\n",
       "  <thead>\n",
       "    <tr style=\"text-align: right;\">\n",
       "      <th></th>\n",
       "      <th>gender</th>\n",
       "      <th>SeniorCitizen</th>\n",
       "      <th>Partner</th>\n",
       "      <th>Dependents</th>\n",
       "      <th>tenure</th>\n",
       "      <th>PhoneService</th>\n",
       "      <th>OnlineSecurity</th>\n",
       "      <th>OnlineBackup</th>\n",
       "      <th>DeviceProtection</th>\n",
       "      <th>TechSupport</th>\n",
       "      <th>StreamingTV</th>\n",
       "      <th>StreamingMovies</th>\n",
       "      <th>Contract</th>\n",
       "      <th>MonthlyCharges</th>\n",
       "      <th>TotalCharges</th>\n",
       "      <th>Churn</th>\n",
       "    </tr>\n",
       "  </thead>\n",
       "  <tbody>\n",
       "    <tr>\n",
       "      <th>0</th>\n",
       "      <td>Female</td>\n",
       "      <td>0</td>\n",
       "      <td>Yes</td>\n",
       "      <td>No</td>\n",
       "      <td>1</td>\n",
       "      <td>No</td>\n",
       "      <td>No</td>\n",
       "      <td>Yes</td>\n",
       "      <td>No</td>\n",
       "      <td>No</td>\n",
       "      <td>No</td>\n",
       "      <td>No</td>\n",
       "      <td>Month-to-month</td>\n",
       "      <td>29.85</td>\n",
       "      <td>29.85</td>\n",
       "      <td>No</td>\n",
       "    </tr>\n",
       "    <tr>\n",
       "      <th>1</th>\n",
       "      <td>Male</td>\n",
       "      <td>0</td>\n",
       "      <td>No</td>\n",
       "      <td>No</td>\n",
       "      <td>34</td>\n",
       "      <td>Yes</td>\n",
       "      <td>Yes</td>\n",
       "      <td>No</td>\n",
       "      <td>Yes</td>\n",
       "      <td>No</td>\n",
       "      <td>No</td>\n",
       "      <td>No</td>\n",
       "      <td>One year</td>\n",
       "      <td>56.95</td>\n",
       "      <td>1889.5</td>\n",
       "      <td>No</td>\n",
       "    </tr>\n",
       "    <tr>\n",
       "      <th>2</th>\n",
       "      <td>Male</td>\n",
       "      <td>0</td>\n",
       "      <td>No</td>\n",
       "      <td>No</td>\n",
       "      <td>2</td>\n",
       "      <td>Yes</td>\n",
       "      <td>Yes</td>\n",
       "      <td>Yes</td>\n",
       "      <td>No</td>\n",
       "      <td>No</td>\n",
       "      <td>No</td>\n",
       "      <td>No</td>\n",
       "      <td>Month-to-month</td>\n",
       "      <td>53.85</td>\n",
       "      <td>108.15</td>\n",
       "      <td>Yes</td>\n",
       "    </tr>\n",
       "    <tr>\n",
       "      <th>3</th>\n",
       "      <td>Male</td>\n",
       "      <td>0</td>\n",
       "      <td>No</td>\n",
       "      <td>No</td>\n",
       "      <td>45</td>\n",
       "      <td>No</td>\n",
       "      <td>Yes</td>\n",
       "      <td>No</td>\n",
       "      <td>Yes</td>\n",
       "      <td>Yes</td>\n",
       "      <td>No</td>\n",
       "      <td>No</td>\n",
       "      <td>One year</td>\n",
       "      <td>42.30</td>\n",
       "      <td>1840.75</td>\n",
       "      <td>No</td>\n",
       "    </tr>\n",
       "    <tr>\n",
       "      <th>4</th>\n",
       "      <td>Female</td>\n",
       "      <td>0</td>\n",
       "      <td>No</td>\n",
       "      <td>No</td>\n",
       "      <td>2</td>\n",
       "      <td>Yes</td>\n",
       "      <td>No</td>\n",
       "      <td>No</td>\n",
       "      <td>No</td>\n",
       "      <td>No</td>\n",
       "      <td>No</td>\n",
       "      <td>No</td>\n",
       "      <td>Month-to-month</td>\n",
       "      <td>70.70</td>\n",
       "      <td>151.65</td>\n",
       "      <td>Yes</td>\n",
       "    </tr>\n",
       "  </tbody>\n",
       "</table>\n",
       "</div>"
      ],
      "text/plain": [
       "   gender  SeniorCitizen Partner Dependents  tenure PhoneService  \\\n",
       "0  Female              0     Yes         No       1           No   \n",
       "1    Male              0      No         No      34          Yes   \n",
       "2    Male              0      No         No       2          Yes   \n",
       "3    Male              0      No         No      45           No   \n",
       "4  Female              0      No         No       2          Yes   \n",
       "\n",
       "  OnlineSecurity OnlineBackup DeviceProtection TechSupport StreamingTV  \\\n",
       "0             No          Yes               No          No          No   \n",
       "1            Yes           No              Yes          No          No   \n",
       "2            Yes          Yes               No          No          No   \n",
       "3            Yes           No              Yes         Yes          No   \n",
       "4             No           No               No          No          No   \n",
       "\n",
       "  StreamingMovies        Contract  MonthlyCharges TotalCharges Churn  \n",
       "0              No  Month-to-month           29.85        29.85    No  \n",
       "1              No        One year           56.95       1889.5    No  \n",
       "2              No  Month-to-month           53.85       108.15   Yes  \n",
       "3              No        One year           42.30      1840.75    No  \n",
       "4              No  Month-to-month           70.70       151.65   Yes  "
      ]
     },
     "execution_count": 3,
     "metadata": {},
     "output_type": "execute_result"
    }
   ],
   "source": [
    "churnData.head()"
   ]
  },
  {
   "cell_type": "code",
   "execution_count": 4,
   "id": "52fada23",
   "metadata": {},
   "outputs": [
    {
     "data": {
      "text/plain": [
       "(7043, 16)"
      ]
     },
     "execution_count": 4,
     "metadata": {},
     "output_type": "execute_result"
    }
   ],
   "source": [
    "churnData.shape"
   ]
  },
  {
   "cell_type": "code",
   "execution_count": 5,
   "id": "8bb9b72a",
   "metadata": {},
   "outputs": [
    {
     "data": {
      "text/plain": [
       "gender               object\n",
       "SeniorCitizen         int64\n",
       "Partner              object\n",
       "Dependents           object\n",
       "tenure                int64\n",
       "PhoneService         object\n",
       "OnlineSecurity       object\n",
       "OnlineBackup         object\n",
       "DeviceProtection     object\n",
       "TechSupport          object\n",
       "StreamingTV          object\n",
       "StreamingMovies      object\n",
       "Contract             object\n",
       "MonthlyCharges      float64\n",
       "TotalCharges         object\n",
       "Churn                object\n",
       "dtype: object"
      ]
     },
     "execution_count": 5,
     "metadata": {},
     "output_type": "execute_result"
    }
   ],
   "source": [
    "# Check the datatypes of all the columns in the data. You would see that the column TotalCharges is object type. \n",
    "\n",
    "churnData.dtypes"
   ]
  },
  {
   "cell_type": "code",
   "execution_count": 6,
   "id": "8bfee31d",
   "metadata": {},
   "outputs": [
    {
     "data": {
      "text/plain": [
       "dtype('float64')"
      ]
     },
     "execution_count": 6,
     "metadata": {},
     "output_type": "execute_result"
    }
   ],
   "source": [
    "# Convert this column into numeric type using pd.to_numeric function.\n",
    "\n",
    "churnData['TotalCharges'] = churnData['TotalCharges'].apply(pd.to_numeric, errors='coerce')\n",
    "churnData['TotalCharges'].dtype"
   ]
  },
  {
   "cell_type": "code",
   "execution_count": 7,
   "id": "16098691",
   "metadata": {},
   "outputs": [],
   "source": [
    "#fixing column names\n",
    "\n",
    "churnData= churnData.rename(columns=str.lower)"
   ]
  },
  {
   "cell_type": "code",
   "execution_count": 8,
   "id": "8a04d2b6",
   "metadata": {},
   "outputs": [],
   "source": [
    "churnData = churnData.rename(columns={'seniorcitizen': 'senior_citizen', 'phoneservice': 'phone_service', 'onlinebackup':'online_backup', 'deviceprotection':'device_protection', 'techsupport':'tech_support', 'streamingtv':'streaming_tv', 'streamingmovies':'streaming_movies', 'monthlycharges':'monthly_charges','totalcharges':'total_charges', 'onlinesecurity':'online_security'})"
   ]
  },
  {
   "cell_type": "code",
   "execution_count": 9,
   "id": "e14c263a",
   "metadata": {},
   "outputs": [
    {
     "data": {
      "text/plain": [
       "gender               0.000000\n",
       "senior_citizen       0.000000\n",
       "partner              0.000000\n",
       "dependents           0.000000\n",
       "tenure               0.000000\n",
       "phone_service        0.000000\n",
       "online_security      0.000000\n",
       "online_backup        0.000000\n",
       "device_protection    0.000000\n",
       "tech_support         0.000000\n",
       "streaming_tv         0.000000\n",
       "streaming_movies     0.000000\n",
       "contract             0.000000\n",
       "monthly_charges      0.000000\n",
       "total_charges        0.001562\n",
       "churn                0.000000\n",
       "dtype: float64"
      ]
     },
     "execution_count": 9,
     "metadata": {},
     "output_type": "execute_result"
    }
   ],
   "source": [
    "# Check for null values in the dataframe.\n",
    "\n",
    "churnData.isnull().sum()/len(churnData)"
   ]
  },
  {
   "cell_type": "code",
   "execution_count": 10,
   "id": "3b880f5a",
   "metadata": {},
   "outputs": [
    {
     "data": {
      "text/html": [
       "<div>\n",
       "<style scoped>\n",
       "    .dataframe tbody tr th:only-of-type {\n",
       "        vertical-align: middle;\n",
       "    }\n",
       "\n",
       "    .dataframe tbody tr th {\n",
       "        vertical-align: top;\n",
       "    }\n",
       "\n",
       "    .dataframe thead th {\n",
       "        text-align: right;\n",
       "    }\n",
       "</style>\n",
       "<table border=\"1\" class=\"dataframe\">\n",
       "  <thead>\n",
       "    <tr style=\"text-align: right;\">\n",
       "      <th></th>\n",
       "      <th>monthly_charges</th>\n",
       "      <th>total_charges</th>\n",
       "    </tr>\n",
       "  </thead>\n",
       "  <tbody>\n",
       "    <tr>\n",
       "      <th>488</th>\n",
       "      <td>52.55</td>\n",
       "      <td>NaN</td>\n",
       "    </tr>\n",
       "    <tr>\n",
       "      <th>753</th>\n",
       "      <td>20.25</td>\n",
       "      <td>NaN</td>\n",
       "    </tr>\n",
       "    <tr>\n",
       "      <th>936</th>\n",
       "      <td>80.85</td>\n",
       "      <td>NaN</td>\n",
       "    </tr>\n",
       "    <tr>\n",
       "      <th>1082</th>\n",
       "      <td>25.75</td>\n",
       "      <td>NaN</td>\n",
       "    </tr>\n",
       "    <tr>\n",
       "      <th>1340</th>\n",
       "      <td>56.05</td>\n",
       "      <td>NaN</td>\n",
       "    </tr>\n",
       "    <tr>\n",
       "      <th>3331</th>\n",
       "      <td>19.85</td>\n",
       "      <td>NaN</td>\n",
       "    </tr>\n",
       "    <tr>\n",
       "      <th>3826</th>\n",
       "      <td>25.35</td>\n",
       "      <td>NaN</td>\n",
       "    </tr>\n",
       "    <tr>\n",
       "      <th>4380</th>\n",
       "      <td>20.00</td>\n",
       "      <td>NaN</td>\n",
       "    </tr>\n",
       "    <tr>\n",
       "      <th>5218</th>\n",
       "      <td>19.70</td>\n",
       "      <td>NaN</td>\n",
       "    </tr>\n",
       "    <tr>\n",
       "      <th>6670</th>\n",
       "      <td>73.35</td>\n",
       "      <td>NaN</td>\n",
       "    </tr>\n",
       "    <tr>\n",
       "      <th>6754</th>\n",
       "      <td>61.90</td>\n",
       "      <td>NaN</td>\n",
       "    </tr>\n",
       "  </tbody>\n",
       "</table>\n",
       "</div>"
      ],
      "text/plain": [
       "      monthly_charges  total_charges\n",
       "488             52.55            NaN\n",
       "753             20.25            NaN\n",
       "936             80.85            NaN\n",
       "1082            25.75            NaN\n",
       "1340            56.05            NaN\n",
       "3331            19.85            NaN\n",
       "3826            25.35            NaN\n",
       "4380            20.00            NaN\n",
       "5218            19.70            NaN\n",
       "6670            73.35            NaN\n",
       "6754            61.90            NaN"
      ]
     },
     "execution_count": 10,
     "metadata": {},
     "output_type": "execute_result"
    }
   ],
   "source": [
    "df_nan = churnData[['monthly_charges','total_charges']].copy()\n",
    "df_nan[df_nan['total_charges'].isna()]"
   ]
  },
  {
   "cell_type": "code",
   "execution_count": 11,
   "id": "280c7904",
   "metadata": {},
   "outputs": [
    {
     "data": {
      "text/plain": [
       "array([  29.85, 1889.5 ,  108.15, ...,  346.45,  306.6 , 6844.5 ])"
      ]
     },
     "execution_count": 11,
     "metadata": {},
     "output_type": "execute_result"
    }
   ],
   "source": [
    "#Replace the null values.\n",
    "\n",
    "imputer = KNNImputer(n_neighbors=4, weights='uniform', metric='nan_euclidean')\n",
    "imputed = imputer.fit_transform(df_nan)\n",
    "df_imputed = pd.DataFrame(imputed, columns=df_nan.columns)\n",
    "df_imputed['total_charges'].unique()"
   ]
  },
  {
   "cell_type": "code",
   "execution_count": 12,
   "id": "e5e56cba",
   "metadata": {},
   "outputs": [
    {
     "data": {
      "text/plain": [
       "gender               0.0\n",
       "senior_citizen       0.0\n",
       "partner              0.0\n",
       "dependents           0.0\n",
       "tenure               0.0\n",
       "phone_service        0.0\n",
       "online_security      0.0\n",
       "online_backup        0.0\n",
       "device_protection    0.0\n",
       "tech_support         0.0\n",
       "streaming_tv         0.0\n",
       "streaming_movies     0.0\n",
       "contract             0.0\n",
       "monthly_charges      0.0\n",
       "total_charges        0.0\n",
       "churn                0.0\n",
       "dtype: float64"
      ]
     },
     "execution_count": 12,
     "metadata": {},
     "output_type": "execute_result"
    }
   ],
   "source": [
    "churnData['total_charges'] = df_imputed['total_charges']\n",
    "churnData.isnull().sum()/len(churnData)"
   ]
  },
  {
   "cell_type": "code",
   "execution_count": null,
   "id": "9e8308aa",
   "metadata": {},
   "outputs": [],
   "source": []
  },
  {
   "cell_type": "code",
   "execution_count": 13,
   "id": "f8791e30",
   "metadata": {},
   "outputs": [],
   "source": [
    "#Use the following features: tenure, SeniorCitizen, MonthlyCharges and TotalCharges"
   ]
  },
  {
   "cell_type": "code",
   "execution_count": 14,
   "id": "250ba74c",
   "metadata": {},
   "outputs": [],
   "source": [
    "X = churnData[['tenure', 'senior_citizen', 'monthly_charges', 'total_charges']]\n",
    "y = churnData[['churn']]"
   ]
  },
  {
   "cell_type": "code",
   "execution_count": 15,
   "id": "875b9f27",
   "metadata": {},
   "outputs": [
    {
     "name": "stdout",
     "output_type": "stream",
     "text": [
      "<class 'pandas.core.frame.DataFrame'>\n",
      "RangeIndex: 7043 entries, 0 to 7042\n",
      "Data columns (total 4 columns):\n",
      " #   Column           Non-Null Count  Dtype  \n",
      "---  ------           --------------  -----  \n",
      " 0   tenure           7043 non-null   int64  \n",
      " 1   senior_citizen   7043 non-null   int64  \n",
      " 2   monthly_charges  7043 non-null   float64\n",
      " 3   total_charges    7043 non-null   float64\n",
      "dtypes: float64(2), int64(2)\n",
      "memory usage: 220.2 KB\n"
     ]
    }
   ],
   "source": [
    "X.info()"
   ]
  },
  {
   "cell_type": "code",
   "execution_count": 16,
   "id": "41e5cb1a",
   "metadata": {},
   "outputs": [
    {
     "data": {
      "image/png": "[encoded data removed]",
      "text/plain": [
       "<Figure size 432x288 with 1 Axes>"
      ]
     },
     "metadata": {
      "needs_background": "light"
     },
     "output_type": "display_data"
    },
    {
     "data": {
      "image/png": "[encoded data removed]",
      "text/plain": [
       "<Figure size 432x288 with 1 Axes>"
      ]
     },
     "metadata": {
      "needs_background": "light"
     },
     "output_type": "display_data"
    },
    {
     "data": {
      "image/png": "[encoded data removed]",
      "text/plain": [
       "<Figure size 432x288 with 1 Axes>"
      ]
     },
     "metadata": {
      "needs_background": "light"
     },
     "output_type": "display_data"
    },
    {
     "data": {
      "image/png": "[encoded data removed]",
      "text/plain": [
       "<Figure size 432x288 with 1 Axes>"
      ]
     },
     "metadata": {
      "needs_background": "light"
     },
     "output_type": "display_data"
    },
    {
     "data": {
      "text/plain": [
       "<Figure size 432x288 with 0 Axes>"
      ]
     },
     "metadata": {},
     "output_type": "display_data"
    }
   ],
   "source": [
    "for i in X.columns:\n",
    "    sns.histplot(churnData[i])\n",
    "    plt.figure()"
   ]
  },
  {
   "cell_type": "code",
   "execution_count": 17,
   "id": "e59a8520",
   "metadata": {},
   "outputs": [
    {
     "data": {
      "text/html": [
       "<div>\n",
       "<style scoped>\n",
       "    .dataframe tbody tr th:only-of-type {\n",
       "        vertical-align: middle;\n",
       "    }\n",
       "\n",
       "    .dataframe tbody tr th {\n",
       "        vertical-align: top;\n",
       "    }\n",
       "\n",
       "    .dataframe thead th {\n",
       "        text-align: right;\n",
       "    }\n",
       "</style>\n",
       "<table border=\"1\" class=\"dataframe\">\n",
       "  <thead>\n",
       "    <tr style=\"text-align: right;\">\n",
       "      <th></th>\n",
       "      <th>tenure</th>\n",
       "      <th>senior_citizen</th>\n",
       "      <th>monthly_charges</th>\n",
       "      <th>total_charges</th>\n",
       "    </tr>\n",
       "  </thead>\n",
       "  <tbody>\n",
       "    <tr>\n",
       "      <th>0</th>\n",
       "      <td>-1.277445</td>\n",
       "      <td>-0.439916</td>\n",
       "      <td>-1.160323</td>\n",
       "      <td>-0.994057</td>\n",
       "    </tr>\n",
       "    <tr>\n",
       "      <th>1</th>\n",
       "      <td>0.066327</td>\n",
       "      <td>-0.439916</td>\n",
       "      <td>-0.259629</td>\n",
       "      <td>-0.173159</td>\n",
       "    </tr>\n",
       "    <tr>\n",
       "      <th>2</th>\n",
       "      <td>-1.236724</td>\n",
       "      <td>-0.439916</td>\n",
       "      <td>-0.362660</td>\n",
       "      <td>-0.959494</td>\n",
       "    </tr>\n",
       "    <tr>\n",
       "      <th>3</th>\n",
       "      <td>0.514251</td>\n",
       "      <td>-0.439916</td>\n",
       "      <td>-0.746535</td>\n",
       "      <td>-0.194678</td>\n",
       "    </tr>\n",
       "    <tr>\n",
       "      <th>4</th>\n",
       "      <td>-1.236724</td>\n",
       "      <td>-0.439916</td>\n",
       "      <td>0.197365</td>\n",
       "      <td>-0.940292</td>\n",
       "    </tr>\n",
       "    <tr>\n",
       "      <th>...</th>\n",
       "      <td>...</td>\n",
       "      <td>...</td>\n",
       "      <td>...</td>\n",
       "      <td>...</td>\n",
       "    </tr>\n",
       "    <tr>\n",
       "      <th>7038</th>\n",
       "      <td>-0.340876</td>\n",
       "      <td>-0.439916</td>\n",
       "      <td>0.665992</td>\n",
       "      <td>-0.128575</td>\n",
       "    </tr>\n",
       "    <tr>\n",
       "      <th>7039</th>\n",
       "      <td>1.613701</td>\n",
       "      <td>-0.439916</td>\n",
       "      <td>1.277533</td>\n",
       "      <td>2.242944</td>\n",
       "    </tr>\n",
       "    <tr>\n",
       "      <th>7040</th>\n",
       "      <td>-0.870241</td>\n",
       "      <td>-0.439916</td>\n",
       "      <td>-1.168632</td>\n",
       "      <td>-0.854302</td>\n",
       "    </tr>\n",
       "    <tr>\n",
       "      <th>7041</th>\n",
       "      <td>-1.155283</td>\n",
       "      <td>2.273159</td>\n",
       "      <td>0.320338</td>\n",
       "      <td>-0.871893</td>\n",
       "    </tr>\n",
       "    <tr>\n",
       "      <th>7042</th>\n",
       "      <td>1.369379</td>\n",
       "      <td>-0.439916</td>\n",
       "      <td>1.358961</td>\n",
       "      <td>2.014108</td>\n",
       "    </tr>\n",
       "  </tbody>\n",
       "</table>\n",
       "<p>7043 rows × 4 columns</p>\n",
       "</div>"
      ],
      "text/plain": [
       "        tenure  senior_citizen  monthly_charges  total_charges\n",
       "0    -1.277445       -0.439916        -1.160323      -0.994057\n",
       "1     0.066327       -0.439916        -0.259629      -0.173159\n",
       "2    -1.236724       -0.439916        -0.362660      -0.959494\n",
       "3     0.514251       -0.439916        -0.746535      -0.194678\n",
       "4    -1.236724       -0.439916         0.197365      -0.940292\n",
       "...        ...             ...              ...            ...\n",
       "7038 -0.340876       -0.439916         0.665992      -0.128575\n",
       "7039  1.613701       -0.439916         1.277533       2.242944\n",
       "7040 -0.870241       -0.439916        -1.168632      -0.854302\n",
       "7041 -1.155283        2.273159         0.320338      -0.871893\n",
       "7042  1.369379       -0.439916         1.358961       2.014108\n",
       "\n",
       "[7043 rows x 4 columns]"
      ]
     },
     "execution_count": 17,
     "metadata": {},
     "output_type": "execute_result"
    }
   ],
   "source": [
    "# Scale the features either by using normalizer or a standard scaler.\n",
    "\n",
    "scaler = StandardScaler()\n",
    "X = pd.DataFrame(scaler.fit_transform(X), columns = X.columns)\n",
    "X"
   ]
  },
  {
   "cell_type": "code",
   "execution_count": 18,
   "id": "8c572cc5",
   "metadata": {},
   "outputs": [
    {
     "name": "stdout",
     "output_type": "stream",
     "text": [
      "<class 'pandas.core.frame.DataFrame'>\n",
      "RangeIndex: 7043 entries, 0 to 7042\n",
      "Data columns (total 1 columns):\n",
      " #   Column  Non-Null Count  Dtype \n",
      "---  ------  --------------  ----- \n",
      " 0   churn   7043 non-null   object\n",
      "dtypes: object(1)\n",
      "memory usage: 55.1+ KB\n"
     ]
    }
   ],
   "source": [
    "y.info()"
   ]
  },
  {
   "cell_type": "code",
   "execution_count": 19,
   "id": "2bc9d882",
   "metadata": {},
   "outputs": [],
   "source": [
    "#Fit a logistic regression model on the training data.\n",
    "\n",
    "X_train, X_test, y_train, y_test = train_test_split \\\n",
    "            (X, y, test_size=0.2, random_state=42)"
   ]
  },
  {
   "cell_type": "code",
   "execution_count": 20,
   "id": "bfe08b3b",
   "metadata": {},
   "outputs": [],
   "source": [
    "clf = LogisticRegression(random_state=42, max_iter=500).fit(X_train, y_train)\n",
    "predictions = clf.predict(X_test)"
   ]
  },
  {
   "cell_type": "code",
   "execution_count": 21,
   "id": "dd72bcc4",
   "metadata": {},
   "outputs": [
    {
     "name": "stdout",
     "output_type": "stream",
     "text": [
      "Confusion matrix\n",
      "[[959 195]\n",
      " [ 77 178]]\n",
      "-------------------------------------------------------\n",
      "Accuracy score\n",
      "0.8069552874378992\n",
      "-------------------------------------------------------\n",
      "Classification report\n",
      "              precision    recall  f1-score   support\n",
      "\n",
      "          No       0.93      0.83      0.88      1154\n",
      "         Yes       0.48      0.70      0.57       255\n",
      "\n",
      "    accuracy                           0.81      1409\n",
      "   macro avg       0.70      0.76      0.72      1409\n",
      "weighted avg       0.84      0.81      0.82      1409\n",
      "\n"
     ]
    },
    {
     "data": {
      "image/png": "[encoded data removed]",
      "text/plain": [
       "<Figure size 432x288 with 2 Axes>"
      ]
     },
     "metadata": {
      "needs_background": "light"
     },
     "output_type": "display_data"
    }
   ],
   "source": [
    "# Check the accuracy on the test data.\n",
    "print('Confusion matrix')\n",
    "print(confusion_matrix(predictions,y_test))\n",
    "plot_confusion_matrix(clf, X_test, y_test) \n",
    "print('-------------------------------------------------------')\n",
    "# accuracy_score\n",
    "# fitted X_test data vs. y_test data (actual answer)\n",
    "print('Accuracy score')\n",
    "print(accuracy_score(predictions,y_test))\n",
    "print('-------------------------------------------------------')\n",
    "# classification report\n",
    "print('Classification report')\n",
    "print(classification_report(predictions,y_test)) "
   ]
  },
  {
   "cell_type": "code",
   "execution_count": 22,
   "id": "9b3095c4",
   "metadata": {},
   "outputs": [
    {
     "data": {
      "text/plain": [
       "No     5174\n",
       "Yes    1869\n",
       "Name: churn, dtype: int64"
      ]
     },
     "execution_count": 22,
     "metadata": {},
     "output_type": "execute_result"
    }
   ],
   "source": [
    "# Check for the imbalance.\n",
    "\n",
    "churnData['churn'].value_counts(dropna = False)"
   ]
  },
  {
   "cell_type": "code",
   "execution_count": 23,
   "id": "c3d7fcd3",
   "metadata": {},
   "outputs": [
    {
     "data": {
      "text/html": [
       "<div>\n",
       "<style scoped>\n",
       "    .dataframe tbody tr th:only-of-type {\n",
       "        vertical-align: middle;\n",
       "    }\n",
       "\n",
       "    .dataframe tbody tr th {\n",
       "        vertical-align: top;\n",
       "    }\n",
       "\n",
       "    .dataframe thead th {\n",
       "        text-align: right;\n",
       "    }\n",
       "</style>\n",
       "<table border=\"1\" class=\"dataframe\">\n",
       "  <thead>\n",
       "    <tr style=\"text-align: right;\">\n",
       "      <th></th>\n",
       "      <th>tenure</th>\n",
       "      <th>senior_citizen</th>\n",
       "      <th>monthly_charges</th>\n",
       "      <th>total_charges</th>\n",
       "      <th>churn</th>\n",
       "    </tr>\n",
       "  </thead>\n",
       "  <tbody>\n",
       "    <tr>\n",
       "      <th>0</th>\n",
       "      <td>-1.277445</td>\n",
       "      <td>-0.439916</td>\n",
       "      <td>-1.160323</td>\n",
       "      <td>-0.994057</td>\n",
       "      <td>No</td>\n",
       "    </tr>\n",
       "    <tr>\n",
       "      <th>1</th>\n",
       "      <td>0.066327</td>\n",
       "      <td>-0.439916</td>\n",
       "      <td>-0.259629</td>\n",
       "      <td>-0.173159</td>\n",
       "      <td>No</td>\n",
       "    </tr>\n",
       "    <tr>\n",
       "      <th>2</th>\n",
       "      <td>-1.236724</td>\n",
       "      <td>-0.439916</td>\n",
       "      <td>-0.362660</td>\n",
       "      <td>-0.959494</td>\n",
       "      <td>Yes</td>\n",
       "    </tr>\n",
       "    <tr>\n",
       "      <th>3</th>\n",
       "      <td>0.514251</td>\n",
       "      <td>-0.439916</td>\n",
       "      <td>-0.746535</td>\n",
       "      <td>-0.194678</td>\n",
       "      <td>No</td>\n",
       "    </tr>\n",
       "    <tr>\n",
       "      <th>4</th>\n",
       "      <td>-1.236724</td>\n",
       "      <td>-0.439916</td>\n",
       "      <td>0.197365</td>\n",
       "      <td>-0.940292</td>\n",
       "      <td>Yes</td>\n",
       "    </tr>\n",
       "    <tr>\n",
       "      <th>...</th>\n",
       "      <td>...</td>\n",
       "      <td>...</td>\n",
       "      <td>...</td>\n",
       "      <td>...</td>\n",
       "      <td>...</td>\n",
       "    </tr>\n",
       "    <tr>\n",
       "      <th>7038</th>\n",
       "      <td>-0.340876</td>\n",
       "      <td>-0.439916</td>\n",
       "      <td>0.665992</td>\n",
       "      <td>-0.128575</td>\n",
       "      <td>No</td>\n",
       "    </tr>\n",
       "    <tr>\n",
       "      <th>7039</th>\n",
       "      <td>1.613701</td>\n",
       "      <td>-0.439916</td>\n",
       "      <td>1.277533</td>\n",
       "      <td>2.242944</td>\n",
       "      <td>No</td>\n",
       "    </tr>\n",
       "    <tr>\n",
       "      <th>7040</th>\n",
       "      <td>-0.870241</td>\n",
       "      <td>-0.439916</td>\n",
       "      <td>-1.168632</td>\n",
       "      <td>-0.854302</td>\n",
       "      <td>No</td>\n",
       "    </tr>\n",
       "    <tr>\n",
       "      <th>7041</th>\n",
       "      <td>-1.155283</td>\n",
       "      <td>2.273159</td>\n",
       "      <td>0.320338</td>\n",
       "      <td>-0.871893</td>\n",
       "      <td>Yes</td>\n",
       "    </tr>\n",
       "    <tr>\n",
       "      <th>7042</th>\n",
       "      <td>1.369379</td>\n",
       "      <td>-0.439916</td>\n",
       "      <td>1.358961</td>\n",
       "      <td>2.014108</td>\n",
       "      <td>No</td>\n",
       "    </tr>\n",
       "  </tbody>\n",
       "</table>\n",
       "<p>7043 rows × 5 columns</p>\n",
       "</div>"
      ],
      "text/plain": [
       "        tenure  senior_citizen  monthly_charges  total_charges churn\n",
       "0    -1.277445       -0.439916        -1.160323      -0.994057    No\n",
       "1     0.066327       -0.439916        -0.259629      -0.173159    No\n",
       "2    -1.236724       -0.439916        -0.362660      -0.959494   Yes\n",
       "3     0.514251       -0.439916        -0.746535      -0.194678    No\n",
       "4    -1.236724       -0.439916         0.197365      -0.940292   Yes\n",
       "...        ...             ...              ...            ...   ...\n",
       "7038 -0.340876       -0.439916         0.665992      -0.128575    No\n",
       "7039  1.613701       -0.439916         1.277533       2.242944    No\n",
       "7040 -0.870241       -0.439916        -1.168632      -0.854302    No\n",
       "7041 -1.155283        2.273159         0.320338      -0.871893   Yes\n",
       "7042  1.369379       -0.439916         1.358961       2.014108    No\n",
       "\n",
       "[7043 rows x 5 columns]"
      ]
     },
     "execution_count": 23,
     "metadata": {},
     "output_type": "execute_result"
    }
   ],
   "source": [
    "#Upsampling\n",
    "\n",
    "data_up = pd.concat([X, y], axis = 1)\n",
    "data_up"
   ]
  },
  {
   "cell_type": "code",
   "execution_count": 24,
   "id": "b7152fee",
   "metadata": {},
   "outputs": [
    {
     "name": "stdout",
     "output_type": "stream",
     "text": [
      "(5174, 5)\n"
     ]
    }
   ],
   "source": [
    "category_1 = data_up[data_up['churn'] == 'Yes']\n",
    "category_0 = data_up[data_up['churn'] == 'No']\n",
    "\n",
    "category_1 = category_1.sample(len(category_0), replace=True)  \n",
    "print(category_1.shape)\n",
    "\n",
    "data_up = pd.concat([category_0, category_1], axis=0)\n",
    "data_up = data_up.sample(frac=1) #frac = 1 returns all the items, frac = 0.5 returns half"
   ]
  },
  {
   "cell_type": "code",
   "execution_count": 25,
   "id": "b142bab1",
   "metadata": {},
   "outputs": [
    {
     "data": {
      "text/plain": [
       "Yes    5174\n",
       "No     5174\n",
       "Name: churn, dtype: int64"
      ]
     },
     "execution_count": 25,
     "metadata": {},
     "output_type": "execute_result"
    }
   ],
   "source": [
    "data_up['churn'].value_counts()"
   ]
  },
  {
   "cell_type": "code",
   "execution_count": 26,
   "id": "9bcf4fa6",
   "metadata": {},
   "outputs": [],
   "source": [
    "X_up = data_up[['tenure', 'senior_citizen', 'monthly_charges', 'total_charges']]\n",
    "y_up = data_up['churn']"
   ]
  },
  {
   "cell_type": "code",
   "execution_count": 27,
   "id": "cce787f8",
   "metadata": {},
   "outputs": [],
   "source": [
    "X_train, X_test, y_train, y_test = train_test_split \\\n",
    "            (X_up, y_up, test_size=0.2, random_state=42)\n",
    "clf = LogisticRegression(random_state=42, max_iter=500).fit(X_train, y_train)\n",
    "predictions = clf.predict(X_test)"
   ]
  },
  {
   "cell_type": "code",
   "execution_count": 28,
   "id": "27d0761a",
   "metadata": {},
   "outputs": [
    {
     "name": "stdout",
     "output_type": "stream",
     "text": [
      "Confusion matrix\n",
      "[[749 276]\n",
      " [263 782]]\n",
      "-------------------------------------------------------\n",
      "Accuracy score\n",
      "0.7396135265700483\n",
      "-------------------------------------------------------\n",
      "Classification report\n",
      "              precision    recall  f1-score   support\n",
      "\n",
      "          No       0.74      0.73      0.74      1025\n",
      "         Yes       0.74      0.75      0.74      1045\n",
      "\n",
      "    accuracy                           0.74      2070\n",
      "   macro avg       0.74      0.74      0.74      2070\n",
      "weighted avg       0.74      0.74      0.74      2070\n",
      "\n"
     ]
    },
    {
     "data": {
      "image/png": "[encoded data removed]",
      "text/plain": [
       "<Figure size 432x288 with 2 Axes>"
      ]
     },
     "metadata": {
      "needs_background": "light"
     },
     "output_type": "display_data"
    }
   ],
   "source": [
    "print('Confusion matrix')\n",
    "print(confusion_matrix(predictions,y_test))\n",
    "plot_confusion_matrix(clf, X_test, y_test) \n",
    "print('-------------------------------------------------------')\n",
    "\n",
    "print('Accuracy score')\n",
    "print(accuracy_score(predictions,y_test))\n",
    "print('-------------------------------------------------------')\n",
    "\n",
    "print('Classification report')\n",
    "print(classification_report(predictions,y_test)) "
   ]
  },
  {
   "cell_type": "code",
   "execution_count": 29,
   "id": "b871c0d1",
   "metadata": {},
   "outputs": [
    {
     "name": "stdout",
     "output_type": "stream",
     "text": [
      "(1869, 5)\n",
      "(1869, 5)\n"
     ]
    }
   ],
   "source": [
    "#Downsampling\n",
    "\n",
    "data_down = pd.concat([X, y], axis = 1)\n",
    "\n",
    "category_1 = data_down[data_down['churn'] == 'Yes']\n",
    "category_0 = data_down[data_down['churn'] == 'No']\n",
    "\n",
    "category_0 = category_0.sample(len(category_1))\n",
    "print(category_0.shape)\n",
    "print(category_1.shape)\n",
    "\n",
    "data_down = pd.concat([category_0, category_1], axis=0)\n",
    "data_down = data_down.sample(frac=1)"
   ]
  },
  {
   "cell_type": "code",
   "execution_count": 30,
   "id": "2fb73309",
   "metadata": {},
   "outputs": [
    {
     "data": {
      "text/plain": [
       "Yes    1869\n",
       "No     1869\n",
       "Name: churn, dtype: int64"
      ]
     },
     "execution_count": 30,
     "metadata": {},
     "output_type": "execute_result"
    }
   ],
   "source": [
    "data_down['churn'].value_counts()"
   ]
  },
  {
   "cell_type": "code",
   "execution_count": 31,
   "id": "64bfd36e",
   "metadata": {},
   "outputs": [],
   "source": [
    "X_d = data_down[['tenure', 'senior_citizen', 'monthly_charges', 'total_charges']]\n",
    "y_d = data_down['churn']"
   ]
  },
  {
   "cell_type": "code",
   "execution_count": 32,
   "id": "b795726f",
   "metadata": {},
   "outputs": [],
   "source": [
    "X_train, X_test, y_train, y_test = train_test_split \\\n",
    "            (X_d, y_d, test_size=0.2, random_state=42)\n",
    "clf = LogisticRegression(random_state=42, max_iter=500).fit(X_train, y_train)\n",
    "predictions = clf.predict(X_test)"
   ]
  },
  {
   "cell_type": "code",
   "execution_count": 33,
   "id": "91ecf3b6",
   "metadata": {},
   "outputs": [
    {
     "name": "stdout",
     "output_type": "stream",
     "text": [
      "Confusion matrix\n",
      "[[262 103]\n",
      " [108 275]]\n",
      "-------------------------------------------------------\n",
      "Accuracy score\n",
      "0.7179144385026738\n",
      "-------------------------------------------------------\n",
      "Classification report\n",
      "              precision    recall  f1-score   support\n",
      "\n",
      "          No       0.71      0.72      0.71       365\n",
      "         Yes       0.73      0.72      0.72       383\n",
      "\n",
      "    accuracy                           0.72       748\n",
      "   macro avg       0.72      0.72      0.72       748\n",
      "weighted avg       0.72      0.72      0.72       748\n",
      "\n"
     ]
    },
    {
     "data": {
      "image/png": "[encoded data removed]",
      "text/plain": [
       "<Figure size 432x288 with 2 Axes>"
      ]
     },
     "metadata": {
      "needs_background": "light"
     },
     "output_type": "display_data"
    }
   ],
   "source": [
    "print('Confusion matrix')\n",
    "print(confusion_matrix(predictions,y_test))\n",
    "plot_confusion_matrix(clf, X_test, y_test) \n",
    "print('-------------------------------------------------------')\n",
    "\n",
    "print('Accuracy score')\n",
    "print(accuracy_score(predictions,y_test))\n",
    "print('-------------------------------------------------------')\n",
    "\n",
    "print('Classification report')\n",
    "print(classification_report(predictions,y_test))"
   ]
  },
  {
   "cell_type": "markdown",
   "id": "bf1d1c60",
   "metadata": {},
   "source": [
    "# Lab | Cross Validation\n",
    "\n",
    "For this lab, we will build a model on customer churn binary classification problem. You will be using files_for_lab/Customer-Churn.csv file.\n",
    "\n",
    "## Instructions\n",
    "\n",
    "### 1. Apply SMOTE for upsampling the data\n",
    "\n",
    "- Use logistic regression to fit the model and compute the accuracy of the model.\n",
    "- Use decision tree classifier to fit the model and compute the accuracy of the model.\n",
    "- Compare the accuracies of the two models.\n",
    "\n",
    "### 2. Apply TomekLinks for downsampling\n",
    "\n",
    "- It is important to remember that it does not make the two classes equal but only removes the points from the majority class that are close to other points in minority class.\n",
    "- Use logistic regression to fit the model and compute the accuracy of the model.\n",
    "- Use decision tree classifier to fit the model and compute the accuracy of the model.\n",
    "- Compare the accuracies of the two models.\n",
    "- You can also apply this algorithm one more time and check the how the imbalance in the two classes changed from the last time."
   ]
  },
  {
   "cell_type": "code",
   "execution_count": 34,
   "id": "31c18132",
   "metadata": {},
   "outputs": [
    {
     "data": {
      "text/plain": [
       "0.6952200662565073"
      ]
     },
     "execution_count": 34,
     "metadata": {},
     "output_type": "execute_result"
    }
   ],
   "source": [
    "# Apply SMOTE for upsampling \n",
    "\n",
    "\n",
    "smote = SMOTE()\n",
    "\n",
    "y = churnData['churn']\n",
    "X = churnData[['tenure', 'senior_citizen', 'monthly_charges', 'total_charges']]\n",
    "\n",
    "#logistic regression\n",
    "\n",
    "X_train, X_test, y_train, y_test = train_test_split(X, y, test_size=0.3, random_state=100)\n",
    "\n",
    "X_sm, y_sm = smote.fit_resample(X_train, y_train)\n",
    "\n",
    "clf = LogisticRegression(random_state=0, multi_class='ovr').fit(X_sm, y_sm)\n",
    "predictions = clf.predict(X_test)\n",
    "\n",
    "clf.score(X_test, y_test)"
   ]
  },
  {
   "cell_type": "code",
   "execution_count": 35,
   "id": "53dcba69",
   "metadata": {},
   "outputs": [
    {
     "name": "stdout",
     "output_type": "stream",
     "text": [
      "Confusion matrix\n",
      "[[1021  118]\n",
      " [ 526  448]]\n",
      "-------------------------------------------------------\n",
      "Accuracy score\n",
      "0.6952200662565073\n",
      "-------------------------------------------------------\n",
      "Classification report\n",
      "              precision    recall  f1-score   support\n",
      "\n",
      "          No       0.66      0.90      0.76      1139\n",
      "         Yes       0.79      0.46      0.58       974\n",
      "\n",
      "    accuracy                           0.70      2113\n",
      "   macro avg       0.73      0.68      0.67      2113\n",
      "weighted avg       0.72      0.70      0.68      2113\n",
      "\n"
     ]
    },
    {
     "data": {
      "image/png": "[encoded data removed]",
      "text/plain": [
       "<Figure size 432x288 with 2 Axes>"
      ]
     },
     "metadata": {
      "needs_background": "light"
     },
     "output_type": "display_data"
    }
   ],
   "source": [
    "print('Confusion matrix')\n",
    "print(confusion_matrix(predictions,y_test))\n",
    "plot_confusion_matrix(clf, X_test, y_test) \n",
    "print('-------------------------------------------------------')\n",
    "\n",
    "print('Accuracy score')\n",
    "print(accuracy_score(predictions,y_test))\n",
    "print('-------------------------------------------------------')\n",
    "\n",
    "print('Classification report')\n",
    "print(classification_report(predictions,y_test))"
   ]
  },
  {
   "cell_type": "code",
   "execution_count": 36,
   "id": "e9cc7df4",
   "metadata": {},
   "outputs": [
    {
     "name": "stdout",
     "output_type": "stream",
     "text": [
      "The accuracy of the model is: 0.71\n"
     ]
    }
   ],
   "source": [
    "#decision tree\n",
    "\n",
    "model = DecisionTreeClassifier()\n",
    "model.fit(X_train, y_train)\n",
    "print(\"The accuracy of the model is: {:4.2f}\".format(model.score(X_test, y_test)))"
   ]
  },
  {
   "cell_type": "code",
   "execution_count": 37,
   "id": "db162345",
   "metadata": {},
   "outputs": [],
   "source": [
    "# compare the 2 models\n",
    "\n",
    "# decision tree seems to be sligtly better"
   ]
  },
  {
   "cell_type": "code",
   "execution_count": 38,
   "id": "78126dc7",
   "metadata": {},
   "outputs": [
    {
     "data": {
      "text/plain": [
       "0.7671557027922385"
      ]
     },
     "execution_count": 38,
     "metadata": {},
     "output_type": "execute_result"
    }
   ],
   "source": [
    "# Tomek links\n",
    "\n",
    "y = churnData['churn']\n",
    "X = churnData[['tenure', 'senior_citizen', 'monthly_charges', 'total_charges']]\n",
    "\n",
    "#logistic regression\n",
    "\n",
    "X_train, X_test, y_train, y_test = train_test_split(X, y, test_size=0.3, random_state=100)\n",
    "\n",
    "tl = TomekLinks('majority')\n",
    "X_tl, y_tl = tl.fit_resample(X_train, y_train)\n",
    "\n",
    "clf = LogisticRegression(random_state=0, multi_class='ovr').fit(X_tl, y_tl)\n",
    "predictions = clf.predict(X_test)\n",
    "\n",
    "clf.score(X_test, y_test)"
   ]
  },
  {
   "cell_type": "code",
   "execution_count": 39,
   "id": "aca3764d",
   "metadata": {},
   "outputs": [
    {
     "name": "stdout",
     "output_type": "stream",
     "text": [
      "Confusion matrix\n",
      "[[1320  265]\n",
      " [ 227  301]]\n",
      "-------------------------------------------------------\n",
      "Accuracy score\n",
      "0.7671557027922385\n",
      "-------------------------------------------------------\n",
      "Classification report\n",
      "              precision    recall  f1-score   support\n",
      "\n",
      "          No       0.85      0.83      0.84      1585\n",
      "         Yes       0.53      0.57      0.55       528\n",
      "\n",
      "    accuracy                           0.77      2113\n",
      "   macro avg       0.69      0.70      0.70      2113\n",
      "weighted avg       0.77      0.77      0.77      2113\n",
      "\n"
     ]
    },
    {
     "data": {
      "image/png": "[encoded data removed]",
      "text/plain": [
       "<Figure size 432x288 with 2 Axes>"
      ]
     },
     "metadata": {
      "needs_background": "light"
     },
     "output_type": "display_data"
    }
   ],
   "source": [
    "print('Confusion matrix')\n",
    "print(confusion_matrix(predictions,y_test))\n",
    "plot_confusion_matrix(clf, X_test, y_test) \n",
    "print('-------------------------------------------------------')\n",
    "\n",
    "print('Accuracy score')\n",
    "print(accuracy_score(predictions,y_test))\n",
    "print('-------------------------------------------------------')\n",
    "\n",
    "print('Classification report')\n",
    "print(classification_report(predictions,y_test))"
   ]
  },
  {
   "cell_type": "code",
   "execution_count": 40,
   "id": "d0a0cac7",
   "metadata": {},
   "outputs": [
    {
     "name": "stdout",
     "output_type": "stream",
     "text": [
      "Confusion matrix\n",
      "[[833 175]\n",
      " [ 96 194]]\n",
      "-------------------------------------------------------\n",
      "Accuracy score\n",
      "0.7912172573189522\n",
      "-------------------------------------------------------\n",
      "Classification report\n",
      "              precision    recall  f1-score   support\n",
      "\n",
      "          No       0.90      0.83      0.86      1008\n",
      "         Yes       0.53      0.67      0.59       290\n",
      "\n",
      "    accuracy                           0.79      1298\n",
      "   macro avg       0.71      0.75      0.72      1298\n",
      "weighted avg       0.81      0.79      0.80      1298\n",
      "\n"
     ]
    },
    {
     "data": {
      "image/png": "[encoded data removed]",
      "text/plain": [
       "<Figure size 432x288 with 2 Axes>"
      ]
     },
     "metadata": {
      "needs_background": "light"
     },
     "output_type": "display_data"
    }
   ],
   "source": [
    "# decision tree\n",
    "\n",
    "y = churnData['churn']\n",
    "X = churnData[['tenure', 'senior_citizen', 'monthly_charges', 'total_charges']]\n",
    "tl = TomekLinks('majority')\n",
    "X_tl, y_tl = tl.fit_resample(X, y)\n",
    "\n",
    "X_train, X_test, y_train, y_test = train_test_split \\\n",
    "            (X_tl, y_tl, test_size=0.2, random_state=42)\n",
    "clf = LogisticRegression(random_state=42, max_iter=500).fit(X_train, y_train)\n",
    "predictions = clf.predict(X_test)\n",
    "\n",
    "\n",
    "print('Confusion matrix')\n",
    "print(confusion_matrix(predictions,y_test))\n",
    "plot_confusion_matrix(clf, X_test, y_test) \n",
    "print('-------------------------------------------------------')\n",
    "\n",
    "\n",
    "print('Accuracy score')\n",
    "print(accuracy_score(predictions,y_test))\n",
    "print('-------------------------------------------------------')\n",
    "\n",
    "\n",
    "print('Classification report')\n",
    "print(classification_report(predictions,y_test)) "
   ]
  },
  {
   "cell_type": "markdown",
   "id": "5df5c12a",
   "metadata": {},
   "source": [
    "# Results\n",
    "\n",
    "- Logistic regression with SMOTE: 69%\n",
    "- Decision tree with SMOTE: 72% \n",
    "- Logistic regression with TOMEK:77%\n",
    "- Decision tree with TOMEK: 79%"
   ]
  },
  {
   "cell_type": "code",
   "execution_count": null,
   "id": "30bce9d8",
   "metadata": {},
   "outputs": [],
   "source": []
  }
 ],
 "metadata": {
  "kernelspec": {
   "display_name": "Python 3",
   "language": "python",
   "name": "python3"
  },
  "language_info": {
   "codemirror_mode": {
    "name": "ipython",
    "version": 3
   },
   "file_extension": ".py",
   "mimetype": "text/x-python",
   "name": "python",
   "nbconvert_exporter": "python",
   "pygments_lexer": "ipython3",
   "version": "3.8.8"
  }
 },
 "nbformat": 4,
 "nbformat_minor": 5
}
